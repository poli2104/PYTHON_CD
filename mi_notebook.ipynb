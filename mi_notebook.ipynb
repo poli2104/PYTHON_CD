{
  "nbformat": 4,
  "nbformat_minor": 0,
  "metadata": {
    "colab": {
      "provenance": [],
      "authorship_tag": "ABX9TyOdB0mWTU4ijn2CbLM0KnLg",
      "include_colab_link": true
    },
    "kernelspec": {
      "name": "python3",
      "display_name": "Python 3"
    },
    "language_info": {
      "name": "python"
    }
  },
  "cells": [
    {
      "cell_type": "markdown",
      "metadata": {
        "id": "view-in-github",
        "colab_type": "text"
      },
      "source": [
        "<a href=\"https://colab.research.google.com/github/poli2104/PYTHON_CD/blob/main/mi_notebook.ipynb\" target=\"_parent\"><img src=\"https://colab.research.google.com/assets/colab-badge.svg\" alt=\"Open In Colab\"/></a>"
      ]
    },
    {
      "cell_type": "code",
      "execution_count": 1,
      "metadata": {
        "colab": {
          "base_uri": "https://localhost:8080/"
        },
        "id": "mF-rzVDqaHE2",
        "outputId": "c4c71ac5-abca-4f6b-a956-32162fc01b93"
      },
      "outputs": [
        {
          "output_type": "stream",
          "name": "stdout",
          "text": [
            "Hola mundo\n"
          ]
        }
      ],
      "source": [
        "# este es un comentario en python\n",
        "print(\"Hola mundo\")\n"
      ]
    },
    {
      "cell_type": "markdown",
      "source": [
        "este es un comentario en colab"
      ],
      "metadata": {
        "id": "SOYSCLZTbbdK"
      }
    },
    {
      "cell_type": "code",
      "source": [
        "x = 2\n",
        "z = 3\n",
        "y = x * z\n",
        "print(y)"
      ],
      "metadata": {
        "colab": {
          "base_uri": "https://localhost:8080/"
        },
        "id": "-v3zn2aDbgc8",
        "outputId": "c51e4c9d-a95b-4982-a44f-5ffdf359c4a6"
      },
      "execution_count": 2,
      "outputs": [
        {
          "output_type": "stream",
          "name": "stdout",
          "text": [
            "6\n"
          ]
        }
      ]
    }
  ]
}